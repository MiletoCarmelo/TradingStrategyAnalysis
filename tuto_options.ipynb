{
 "cells": [
  {
   "cell_type": "code",
   "execution_count": 49,
   "metadata": {},
   "outputs": [],
   "source": [
    "# get infos for an option from yahoo finance: \n",
    "\n",
    "import utils.yahoo as yf\n",
    "import yfinance as y\n",
    "from datetime import datetime\n",
    "from optionlab import run_strategy, plot_pl"
   ]
  },
  {
   "cell_type": "code",
   "execution_count": 50,
   "metadata": {},
   "outputs": [],
   "source": [
    "stock = \"AAPL\"\n",
    "ls = \"long\"\n",
    "cp = \"call\"\n",
    "\n",
    "exp_dates = yf.get_options_expirations_dates(stock)\n",
    "exp_date = exp_dates[\"Expiration Dates\"][5]\n",
    "exp_date = exp_date.strftime(\"%Y-%m-%d\")"
   ]
  },
  {
   "cell_type": "code",
   "execution_count": 51,
   "metadata": {},
   "outputs": [
    {
     "data": {
      "text/plain": [
       "currency                                       USD\n",
       "ticker                                        AAPL\n",
       "contractSymbol       AAPL241115C00225000_call_long\n",
       "lastTradeDate            2024-10-08 19:59:44+00:00\n",
       "strike                                       225.0\n",
       "lastPrice                                      8.8\n",
       "bid                                            0.0\n",
       "ask                                            0.0\n",
       "change                                         0.0\n",
       "percentChange                                  0.0\n",
       "volume                                      1378.0\n",
       "openInterest                                 28441\n",
       "impliedVolatility                          0.00001\n",
       "inTheMoney                                    True\n",
       "contractSize                               REGULAR\n",
       "expirationDate                          2024-11-15\n",
       "tickerPrice                                225.339\n",
       "ls                                            long\n",
       "cp                                            call\n",
       "type                                        option\n",
       "Name: 35, dtype: object"
      ]
     },
     "execution_count": 51,
     "metadata": {},
     "output_type": "execute_result"
    }
   ],
   "source": [
    "options = yf.get_options_list(stock, ls=ls, cp=cp, expiration_dates=[exp_date])\n",
    "option = options.iloc[35]\n",
    "option "
   ]
  },
  {
   "cell_type": "code",
   "execution_count": 52,
   "metadata": {},
   "outputs": [
    {
     "name": "stderr",
     "output_type": "stream",
     "text": [
      "[*********************100%***********************]  1 of 1 completed\n"
     ]
    }
   ],
   "source": [
    "# setting up the option input format : \n",
    "period_domain = \"1y\"\n",
    "\n",
    "number_of_contracts = [1, 1]  # Adjust as needed\n",
    "shares_per_contract = 100  # Standard for U.S. options\n",
    "\n",
    "input_data = {\n",
    "    \"stock_price\": option.tickerPrice,\n",
    "    \"start_date\": datetime.now().strftime(\"%Y-%m-%d\"),\n",
    "    \"target_date\": option.expirationDate,\n",
    "    \"volatility\": yf.calculate_volatility(option.ticker, period=period_domain),\n",
    "    \"interest_rate\": yf.get_risk_free_rate(period=period_domain),\n",
    "    \"min_stock\": yf.get_stock_min_max(option.ticker,period=period_domain)[0],\n",
    "    \"max_stock\": yf.get_stock_min_max(option.ticker,period=period_domain)[1],\n",
    "    \"strategy\": [\n",
    "        {\n",
    "            \"type\": option.cp,\n",
    "            \"strike\": option.strike,\n",
    "            \"premium\": option.lastPrice,\n",
    "            \"n\": shares_per_contract,\n",
    "            \"action\": \"buy\" if option.ls == \"long\" else \"sell\"\n",
    "        },\n",
    "        {\n",
    "            \"type\": option.cp,\n",
    "            \"strike\": option.strike,\n",
    "            \"premium\": option.lastPrice,\n",
    "            \"n\": shares_per_contract,\n",
    "            \"action\": \"buy\" if option.ls == \"long\" else \"sell\"\n",
    "        }\n",
    "    ],\n",
    "}"
   ]
  },
  {
   "cell_type": "code",
   "execution_count": 53,
   "metadata": {},
   "outputs": [],
   "source": [
    "out = run_strategy(input_data)"
   ]
  },
  {
   "cell_type": "code",
   "execution_count": 58,
   "metadata": {},
   "outputs": [
    {
     "data": {
      "text/plain": [
       "{'profit_robability': 0.31269672248268743,\n",
       " 'profit_ranges': [(233.81, inf)],\n",
       " 'strategy_cost': -1760.0000000000002,\n",
       " 'minimum_return_in_the_domain': -1760.0000000000002,\n",
       " 'maximum_return_in_the_domain': 573.9999999999974,\n",
       " 'Cost': 0.0,\n",
       " 'Delta': 109.11404227953795,\n",
       " 'Gamma': 4.856517407015377,\n",
       " 'Theta': -28.588606141582456,\n",
       " 'Vega': 57.37426175576379}"
      ]
     },
     "execution_count": 58,
     "metadata": {},
     "output_type": "execute_result"
    }
   ],
   "source": [
    "probability_of_profit = out.probability_of_profit  # 0.32235439683910716\n",
    "profit_ranges = out.profit_ranges # [(233.81, inf)]\n",
    "strategy_cost = out.strategy_cost # -1760.0000000000002\n",
    "minimum_return_in_the_domain = out.minimum_return_in_the_domain # -1760.0000000000002\n",
    "maximum_return_in_the_domain = out.maximum_return_in_the_domain # 573.9999999999974\n",
    "\n",
    "# per_leg_cost = out.per_leg_cost # [-880.0000000000001, -880.0000000000001] => same a strategy_cost\n",
    "# implied_volatility = out.implied_volatility # [0.275, 0.275]\n",
    "# in_the_money_probability = out.in_the_money_probability # [0.5271583045940538, 0.5271583045940538]\n",
    "# delta = out.delta # [0.5559462710629198, 0.5559462710629198]\n",
    "# gamma = out.gamma # [0.024109185969151875, 0.024109185969151875]\n",
    "# theta = out.theta # [-0.14336559446059394, -0.14336559446059394]\n",
    "# vega = out.vega # [0.2864600008495908, 0.2864600008495908]\n",
    "# probability_of_profit_target = out.probability_of_profit_target # None\n",
    "# profit_target_ranges = out.profit_target_ranges # None\n",
    "# probability_of_loss_limit = out.probability_of_loss_limit # None\n",
    "# average_profit_from_mc = out.average_profit_from_mc # None\n",
    "# average_loss_from_mc = out.average_loss_from_mc # None\n",
    "# probability_of_profit_from_mc = out.probability_of_profit_from_mc # None\n",
    "\n",
    "#   Variable\t                Type\t        Aggregation\n",
    "#   Per Leg Cost\t            Cost\t        Sum\n",
    "#   Implied Volatility\t        Percentage\t    Mean\n",
    "#   In-the-Money Probability\tProbability\t    Mean\n",
    "#   Delta\t                    Sensitivity\t    Sum\n",
    "#   Gamma\t                    Sensitivity\t    Sum\n",
    "#   Theta\t                    Sensitivity\t    Sum\n",
    "#   Vega\t                    Sensitivity\t    Sum\n",
    "\n",
    "\n",
    "# Calculating means\n",
    "mean_implied_volatility = sum(out.implied_volatility) / len(out.implied_volatility)\n",
    "mean_in_the_money_probability = sum(out.in_the_money_probability) / len(out.in_the_money_probability)\n",
    "\n",
    "total_delta = 0.0\n",
    "total_gamma = 0.0\n",
    "total_theta = 0.0\n",
    "total_vega = 0.0\n",
    "# Calculating summaries\n",
    "for i in range(len(number_of_contracts)): \n",
    "    total_delta += out.delta[i] * number_of_contracts[i] * shares_per_contract\n",
    "    total_gamma += out.gamma[i] * number_of_contracts[i] * shares_per_contract\n",
    "    total_theta += out.theta[i] * number_of_contracts[i] * shares_per_contract\n",
    "    total_vega += out.vega[i] * number_of_contracts[i] * shares_per_contract\n",
    "\n",
    "\n",
    "# Summary output\n",
    "summary = {\n",
    "    \"profit_robability\": out.probability_of_profit,\n",
    "    \"profit_ranges\" : out.profit_ranges, \n",
    "    \"strategy_cost\" : out.strategy_cost,\n",
    "    \"minimum_return_in_the_domain\" : out.minimum_return_in_the_domain,\n",
    "    \"maximum_return_in_the_domain\" : out.maximum_return_in_the_domain,\n",
    "    \"Cost\": total_per_leg_cost,\n",
    "    \"Delta\": total_delta,\n",
    "    \"Gamma\": total_gamma,\n",
    "    \"Theta\": total_theta,\n",
    "    \"Vega\": total_vega,\n",
    "}\n",
    "summary"
   ]
  },
  {
   "cell_type": "code",
   "execution_count": null,
   "metadata": {},
   "outputs": [],
   "source": [
    "\n"
   ]
  },
  {
   "cell_type": "code",
   "execution_count": null,
   "metadata": {},
   "outputs": [],
   "source": []
  }
 ],
 "metadata": {
  "kernelspec": {
   "display_name": "taipy",
   "language": "python",
   "name": "python3"
  },
  "language_info": {
   "codemirror_mode": {
    "name": "ipython",
    "version": 3
   },
   "file_extension": ".py",
   "mimetype": "text/x-python",
   "name": "python",
   "nbconvert_exporter": "python",
   "pygments_lexer": "ipython3",
   "version": "3.11.9"
  }
 },
 "nbformat": 4,
 "nbformat_minor": 2
}
